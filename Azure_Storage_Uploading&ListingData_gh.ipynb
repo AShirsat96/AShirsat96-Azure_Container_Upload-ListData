{
 "cells": [
  {
   "cell_type": "code",
   "execution_count": 1,
   "id": "954c620d",
   "metadata": {},
   "outputs": [],
   "source": [
    "#!pip install azure-storage-blob"
   ]
  },
  {
   "cell_type": "code",
   "execution_count": 2,
   "id": "4b54974f",
   "metadata": {},
   "outputs": [],
   "source": [
    "#!pip install azure-mgmt-storage"
   ]
  },
  {
   "cell_type": "code",
   "execution_count": 3,
   "id": "c41bd719",
   "metadata": {},
   "outputs": [],
   "source": [
    "import os"
   ]
  },
  {
   "cell_type": "code",
   "execution_count": 4,
   "id": "1023e4d1",
   "metadata": {},
   "outputs": [],
   "source": [
    "import uuid"
   ]
  },
  {
   "cell_type": "code",
   "execution_count": 5,
   "id": "13e0bdf2",
   "metadata": {},
   "outputs": [],
   "source": [
    "from azure.storage.blob import BlobClient"
   ]
  },
  {
   "cell_type": "code",
   "execution_count": 6,
   "id": "dc8ae2cd",
   "metadata": {},
   "outputs": [],
   "source": [
    "from azure.core import exceptions"
   ]
  },
  {
   "cell_type": "code",
   "execution_count": 7,
   "id": "e97ba3f5",
   "metadata": {},
   "outputs": [],
   "source": [
    "from azure.storage.blob import BlobServiceClient"
   ]
  },
  {
   "cell_type": "code",
   "execution_count": 8,
   "id": "bac7c367",
   "metadata": {},
   "outputs": [],
   "source": [
    "from azure.core.exceptions import ResourceExistsError"
   ]
  },
  {
   "cell_type": "code",
   "execution_count": 9,
   "id": "d24c57f7",
   "metadata": {},
   "outputs": [],
   "source": [
    "connection_string = <\"your connection string\">"
   ]
  },
  {
   "cell_type": "code",
   "execution_count": 10,
   "id": "d3a1ec0e",
   "metadata": {},
   "outputs": [],
   "source": [
    "blob_service_client = BlobServiceClient.from_connection_string(connection_string)"
   ]
  },
  {
   "cell_type": "code",
   "execution_count": 11,
   "id": "009c8d76",
   "metadata": {},
   "outputs": [],
   "source": [
    "container_name = <\"Mention the container name\">"
   ]
  },
  {
   "cell_type": "markdown",
   "id": "3e49919e",
   "metadata": {},
   "source": [
    "### Uploading a Blob(Binary Large Object) to a container"
   ]
  },
  {
   "cell_type": "code",
   "execution_count": 12,
   "id": "f982e688",
   "metadata": {},
   "outputs": [],
   "source": [
    "# Create a local directory to hold blob data\n",
    "local_path = \"./Blobdata1\" #creating a subdirectory under my python root directory\n",
    "os.mkdir(local_path)"
   ]
  },
  {
   "cell_type": "code",
   "execution_count": 13,
   "id": "8717f330",
   "metadata": {},
   "outputs": [],
   "source": [
    "# Create a file in the local data directory to upload and download\n",
    "local_file_name = str(uuid.uuid4()) + \".txt\"\n",
    "upload_file_path = os.path.join(local_path, local_file_name)"
   ]
  },
  {
   "cell_type": "code",
   "execution_count": 14,
   "id": "9f1a6f7d",
   "metadata": {},
   "outputs": [],
   "source": [
    "# Write text to the file\n",
    "file = open(file=upload_file_path, mode='w')\n",
    "file.write(\"Hello, World!\")\n",
    "file.close()"
   ]
  },
  {
   "cell_type": "code",
   "execution_count": 15,
   "id": "c6232e34",
   "metadata": {},
   "outputs": [
    {
     "name": "stdout",
     "output_type": "stream",
     "text": [
      "\n",
      "Uploading to Azure Storage as blob:\n",
      "\t7511ee41-8b7c-4941-ba78-4d79f46cafb8.txt\n"
     ]
    }
   ],
   "source": [
    "# Create a blob client using the local file name as the name for the blob\n",
    "blob_client = blob_service_client.get_blob_client(container=container_name, blob=local_file_name)\n",
    "print(\"\\nUploading to Azure Storage as blob:\\n\\t\" + local_file_name)"
   ]
  },
  {
   "cell_type": "code",
   "execution_count": 16,
   "id": "7d3cddfd",
   "metadata": {},
   "outputs": [],
   "source": [
    "# Upload the created file\n",
    "with open(file=upload_file_path, mode=\"rb\") as data:\n",
    "    blob_client.upload_blob(data)"
   ]
  },
  {
   "cell_type": "markdown",
   "id": "71da8e56",
   "metadata": {},
   "source": [
    "### Upload a block blob from a stream"
   ]
  },
  {
   "cell_type": "code",
   "execution_count": 17,
   "id": "8bb4d159",
   "metadata": {},
   "outputs": [],
   "source": [
    "import io"
   ]
  },
  {
   "cell_type": "code",
   "execution_count": 18,
   "id": "8429ae3d",
   "metadata": {},
   "outputs": [],
   "source": [
    "def upload_blob_stream(blob_service_client: BlobServiceClient, container_name: str):\n",
    "    blob_client = blob_service_client.get_blob_client(container=container_name, blob=\"sample-blob3.txt\")\n",
    "    input_stream = io.BytesIO(os.urandom(15))\n",
    "    blob_client.upload_blob(input_stream, blob_type=\"BlockBlob\")"
   ]
  },
  {
   "cell_type": "code",
   "execution_count": 19,
   "id": "b5cb2e0b",
   "metadata": {},
   "outputs": [],
   "source": [
    "upload_blob_stream(blob_service_client,container_name)"
   ]
  },
  {
   "cell_type": "markdown",
   "id": "8a01ce84",
   "metadata": {},
   "source": [
    "### List the blobs in a container"
   ]
  },
  {
   "cell_type": "code",
   "execution_count": 20,
   "id": "0ed495b9",
   "metadata": {},
   "outputs": [
    {
     "name": "stdout",
     "output_type": "stream",
     "text": [
      "\n",
      "Listing blobs...\n",
      "\t1689039f-9773-4fdb-809e-f2ba1a8b4cce.txt\n",
      "\t7511ee41-8b7c-4941-ba78-4d79f46cafb8.txt\n",
      "\tf8e12c6c-bbaa-4477-a504-579d906ae900.txt\n",
      "\tsample-blob.txt\n",
      "\tsample-blob2.txt\n",
      "\tsample-blob3.txt\n"
     ]
    }
   ],
   "source": [
    "print(\"\\nListing blobs...\")\n",
    "\n",
    "# List the blobs in the container\n",
    "blob_list = blob_service_client.get_container_client(container_name).list_blobs()\n",
    "for blob in blob_list:\n",
    "    print(\"\\t\" + blob.name)"
   ]
  }
 ],
 "metadata": {
  "kernelspec": {
   "display_name": "Python 3",
   "language": "python",
   "name": "python3"
  },
  "language_info": {
   "codemirror_mode": {
    "name": "ipython",
    "version": 3
   },
   "file_extension": ".py",
   "mimetype": "text/x-python",
   "name": "python",
   "nbconvert_exporter": "python",
   "pygments_lexer": "ipython3",
   "version": "3.8.8"
  }
 },
 "nbformat": 4,
 "nbformat_minor": 5
}
